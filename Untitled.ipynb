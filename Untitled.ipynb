{
 "cells": [
  {
   "cell_type": "code",
   "execution_count": 41,
   "metadata": {},
   "outputs": [],
   "source": [
    "import itertools\n",
    "\n",
    "def cleaning_data(str): \n",
    "        str = ' '.join(re.sub(r'@[A-Za-z0-9]+','',str).split()) \n",
    "        str = ' '.join(re.sub('https?://[A-Za-z0-9./]+','',str).split())\n",
    "        str = ' '.join(re.sub(\"[^a-zA-Z]\", \" \", str).split())\n",
    "        str = ' '.join(re.sub(\"RT\", \" \", str).split())\n",
    "        str = ' '.join(re.sub(' +',' ', str).split())\n",
    "        return str\n",
    "    \n",
    "def casefolding(str):\n",
    "    str = str.lower()    \n",
    "    return str\n",
    "\n",
    "def spliting_data(str):\n",
    "    str = str.split()\n",
    "    return str\n",
    "\n",
    "def remove_multiple(str):\n",
    "    str = ' '.join(c[0] for c in itertools.groupby(str))\n",
    "    return str\n",
    "\n",
    "def preprocessing(str):\n",
    "    str = cleaning_data(str)\n",
    "    str = casefolding(str)\n",
    "    str = spliting_data(str)\n",
    "    str = remove_multiple(str)\n",
    "    return str\n",
    "\n",
    "#     for st in txt:\n",
    "#     er = ''.join(c[0] for c in itertools.groupby(st))\n",
    "#     print(er)"
   ]
  },
  {
   "cell_type": "code",
   "execution_count": 43,
   "metadata": {},
   "outputs": [],
   "source": [
    "import pandas as pd\n",
    "import xlsxwriter\n",
    "import re\n",
    "\n",
    "fo = pd.read_excel('datajogja.xlsx', sheet_name='datates') #read excel file\n",
    "txt = fo['review_text']\n",
    "lab = fo['label']\n",
    "workbook = xlsxwriter.Workbook('dataclean.xlsx')\n",
    "worksheet = workbook.add_worksheet()\n",
    "\n",
    "row = 0\n",
    "col = 0\n",
    "\n",
    "rowHeaders = ['text','label']\n",
    "worksheet.write_row(row, col,  tuple(rowHeaders))\n",
    "\n",
    "for t in txt:\n",
    "    new_txt = preprocessing(t)\n",
    "    rowValues = [new_txt]\n",
    "    row += 1\n",
    "    worksheet.write_row(row, col, tuple(rowValues))\n",
    "    \n",
    "\n",
    "    \n",
    "workbook.close()"
   ]
  },
  {
   "cell_type": "code",
   "execution_count": null,
   "metadata": {},
   "outputs": [],
   "source": []
  }
 ],
 "metadata": {
  "kernelspec": {
   "display_name": "Python 3",
   "language": "python",
   "name": "python3"
  },
  "language_info": {
   "codemirror_mode": {
    "name": "ipython",
    "version": 3
   },
   "file_extension": ".py",
   "mimetype": "text/x-python",
   "name": "python",
   "nbconvert_exporter": "python",
   "pygments_lexer": "ipython3",
   "version": "3.6.5"
  }
 },
 "nbformat": 4,
 "nbformat_minor": 2
}
