{
 "cells": [
  {
   "cell_type": "code",
   "execution_count": 8,
   "metadata": {},
   "outputs": [],
   "source": [
    "from textblob.classifiers import NaiveBayesClassifier\n",
    "\n",
    "with open('./ready/train.csv', 'r') as fp:\n",
    "    cl = NaiveBayesClassifier(fp, format='csv')"
   ]
  },
  {
   "cell_type": "code",
   "execution_count": 9,
   "metadata": {},
   "outputs": [
    {
     "name": "stdout",
     "output_type": "stream",
     "text": [
      "pos\n",
      "0.68\n",
      "0.32\n",
      "neg\n",
      "0.01\n",
      "0.99\n",
      "neg\n",
      "0.27\n",
      "0.73\n"
     ]
    }
   ],
   "source": [
    "prob_dist = cl.prob_classify(\"tempatnya bagus, sangat luas\")\n",
    "print(cl.classify(\"tempatnya bagus, sangat luas\"))\n",
    "print(round(prob_dist.prob(\"pos\"), 2))\n",
    "print(round(prob_dist.prob(\"neg\"), 2))\n",
    "\n",
    "prob_dist = cl.prob_classify(\"banyak macet dan ramai\")\n",
    "print(cl.classify(\"banyak macet dan ramai\"))\n",
    "print(round(prob_dist.prob(\"pos\"), 2))\n",
    "print(round(prob_dist.prob(\"neg\"), 2))\n",
    "\n",
    "prob_dist = cl.prob_classify(\"luar biasa bagus jalannya\")\n",
    "print(cl.classify(\"luar biasa bagus jalannya\"))\n",
    "print(round(prob_dist.prob(\"pos\"), 2))\n",
    "print(round(prob_dist.prob(\"neg\"), 2))"
   ]
  },
  {
   "cell_type": "code",
   "execution_count": 10,
   "metadata": {},
   "outputs": [
    {
     "name": "stdout",
     "output_type": "stream",
     "text": [
      "Most Informative Features\n",
      "          contains(pura) = True              neg : pos    =     16.5 : 1.0\n",
      "         contains(mitos) = True              neg : pos    =     12.3 : 1.0\n",
      "         contains(macet) = True              neg : pos    =     12.3 : 1.0\n",
      "         contains(susah) = True              neg : pos    =     10.5 : 1.0\n",
      "     contains(sayangnya) = True              neg : pos    =     10.5 : 1.0\n",
      "        contains(museum) = True              neg : pos    =     10.3 : 1.0\n",
      "        contains(begitu) = True              pos : neg    =      9.0 : 1.0\n",
      "         contains(asyik) = True              pos : neg    =      7.7 : 1.0\n",
      "         contains(keren) = True              pos : neg    =      7.7 : 1.0\n",
      "         contains(tanah) = True              neg : pos    =      7.6 : 1.0\n",
      "        contains(tenang) = True              pos : neg    =      7.2 : 1.0\n",
      "          contains(muda) = True              pos : neg    =      7.0 : 1.0\n",
      "         contains(musik) = True              pos : neg    =      7.0 : 1.0\n",
      "           contains(tua) = True              neg : pos    =      7.0 : 1.0\n",
      "          contains(food) = True              neg : pos    =      7.0 : 1.0\n"
     ]
    }
   ],
   "source": [
    "cl.show_informative_features(15)"
   ]
  },
  {
   "cell_type": "code",
   "execution_count": 14,
   "metadata": {},
   "outputs": [
    {
     "name": "stdout",
     "output_type": "stream",
     "text": [
      "Akurasi dengan menggunakan TextBlob NaiveBayes : 0.9507874015748031\n"
     ]
    }
   ],
   "source": [
    "with open('./ready/valid.csv', 'r') as fp:\n",
    "    print('Akurasi dengan menggunakan TextBlob NaiveBayes : '+str(cl.accuracy(fp, format='csv')))"
   ]
  },
  {
   "cell_type": "code",
   "execution_count": null,
   "metadata": {},
   "outputs": [],
   "source": []
  }
 ],
 "metadata": {
  "kernelspec": {
   "display_name": "Python 3",
   "language": "python",
   "name": "python3"
  },
  "language_info": {
   "codemirror_mode": {
    "name": "ipython",
    "version": 3
   },
   "file_extension": ".py",
   "mimetype": "text/x-python",
   "name": "python",
   "nbconvert_exporter": "python",
   "pygments_lexer": "ipython3",
   "version": "3.6.5"
  }
 },
 "nbformat": 4,
 "nbformat_minor": 2
}
