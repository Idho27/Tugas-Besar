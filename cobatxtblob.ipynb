{
 "cells": [
  {
   "cell_type": "code",
   "execution_count": 5,
   "metadata": {},
   "outputs": [],
   "source": [
    "from textblob.classifiers import NaiveBayesClassifier\n",
    "\n",
    "with open('./ready/train-w-stopword.csv', 'r') as fp:\n",
    "    cl = NaiveBayesClassifier(fp, format='csv')"
   ]
  },
  {
   "cell_type": "code",
   "execution_count": 6,
   "metadata": {},
   "outputs": [
    {
     "name": "stdout",
     "output_type": "stream",
     "text": [
      "pos\n",
      "0.68\n",
      "0.32\n",
      "neg\n",
      "0.02\n",
      "0.98\n",
      "neg\n",
      "0.4\n",
      "0.6\n"
     ]
    }
   ],
   "source": [
    "prob_dist = cl.prob_classify(\"tempatnya bagus, sangat luas\")\n",
    "print(cl.classify(\"tempatnya bagus, sangat luas\"))\n",
    "print(round(prob_dist.prob(\"pos\"), 2))\n",
    "print(round(prob_dist.prob(\"neg\"), 2))\n",
    "\n",
    "prob_dist = cl.prob_classify(\"banyak macet dan ramai\")\n",
    "print(cl.classify(\"banyak macet dan ramai\"))\n",
    "print(round(prob_dist.prob(\"pos\"), 2))\n",
    "print(round(prob_dist.prob(\"neg\"), 2))\n",
    "\n",
    "prob_dist = cl.prob_classify(\"luar biasa bagus jalannya\")\n",
    "print(cl.classify(\"luar biasa bagus jalannya\"))\n",
    "print(round(prob_dist.prob(\"pos\"), 2))\n",
    "print(round(prob_dist.prob(\"neg\"), 2))"
   ]
  },
  {
   "cell_type": "code",
   "execution_count": 7,
   "metadata": {},
   "outputs": [
    {
     "name": "stdout",
     "output_type": "stream",
     "text": [
      "Most Informative Features\n",
      "      contains(romantis) = True              pos : neg    =     14.5 : 1.0\n",
      "        contains(museum) = True              neg : pos    =     13.5 : 1.0\n",
      "          contains(pura) = True              neg : pos    =     12.6 : 1.0\n",
      "      contains(panorama) = True              pos : neg    =     11.8 : 1.0\n",
      "         contains(susah) = True              neg : pos    =     11.7 : 1.0\n",
      "         contains(mitos) = True              neg : pos    =     10.9 : 1.0\n",
      "          contains(tepi) = True              neg : pos    =      9.6 : 1.0\n",
      "         contains(tanam) = True              neg : pos    =      8.9 : 1.0\n",
      "        contains(tenang) = True              pos : neg    =      7.6 : 1.0\n",
      "        contains(betapa) = True              pos : neg    =      7.1 : 1.0\n",
      "         contains(asyik) = True              pos : neg    =      7.1 : 1.0\n",
      "            contains(30) = True              pos : neg    =      7.1 : 1.0\n",
      "      contains(struktur) = True              neg : pos    =      6.9 : 1.0\n",
      "       contains(cokelat) = True              neg : pos    =      6.9 : 1.0\n",
      "         contains(macet) = True              neg : pos    =      6.9 : 1.0\n"
     ]
    }
   ],
   "source": [
    "cl.show_informative_features(15)"
   ]
  },
  {
   "cell_type": "code",
   "execution_count": 8,
   "metadata": {},
   "outputs": [
    {
     "name": "stdout",
     "output_type": "stream",
     "text": [
      "Akurasi dengan menggunakan TextBlob NaiveBayes : 0.9360236220472441\n"
     ]
    }
   ],
   "source": [
    "with open('./ready/valid-w-stopword.csv', 'r') as fp:\n",
    "    print('Akurasi dengan menggunakan TextBlob NaiveBayes : '+str(cl.accuracy(fp, format='csv')))"
   ]
  },
  {
   "cell_type": "code",
   "execution_count": null,
   "metadata": {},
   "outputs": [],
   "source": []
  }
 ],
 "metadata": {
  "kernelspec": {
   "display_name": "Python 3",
   "language": "python",
   "name": "python3"
  },
  "language_info": {
   "codemirror_mode": {
    "name": "ipython",
    "version": 3
   },
   "file_extension": ".py",
   "mimetype": "text/x-python",
   "name": "python",
   "nbconvert_exporter": "python",
   "pygments_lexer": "ipython3",
   "version": "3.6.5"
  }
 },
 "nbformat": 4,
 "nbformat_minor": 2
}
