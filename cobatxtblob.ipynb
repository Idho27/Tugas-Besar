{
 "cells": [
  {
   "cell_type": "code",
   "execution_count": 14,
   "metadata": {},
   "outputs": [],
   "source": [
    "from textblob.classifiers import NaiveBayesClassifier\n",
    "\n",
    "with open('./ready/clean3.csv', 'r') as fp:\n",
    "    cl = NaiveBayesClassifier(fp, format='csv')\n",
    "# with open('clean.csv', 'r') as fp1:\n",
    "#     cl.update(fp1, format='csv')\n",
    "# a = open('clean.csv','r').read()   # this is string\n",
    "# a_list = a.split('\\n')\n",
    "# a_list_of_tuple = [tuple(x.split(',')) for x in a_list]\n",
    "# #print(a_list_of_tuple)\n",
    "# cl.update(a_list_of_tuple)"
   ]
  },
  {
   "cell_type": "code",
   "execution_count": 15,
   "metadata": {},
   "outputs": [
    {
     "name": "stdout",
     "output_type": "stream",
     "text": [
      "pos\n",
      "0.73\n",
      "0.27\n",
      "neg\n",
      "0.03\n",
      "0.97\n",
      "neg\n",
      "0.26\n",
      "0.74\n"
     ]
    }
   ],
   "source": [
    "prob_dist = cl.prob_classify(\"tempatnya bagus, sangat luas\")\n",
    "print(cl.classify(\"tempatnya bagus, sangat luas\"))\n",
    "print(round(prob_dist.prob(\"pos\"), 2))\n",
    "print(round(prob_dist.prob(\"neg\"), 2))\n",
    "\n",
    "prob_dist = cl.prob_classify(\"banyak macet dan ramai\")\n",
    "print(cl.classify(\"banyak macet dan ramai\"))\n",
    "print(round(prob_dist.prob(\"pos\"), 2))\n",
    "print(round(prob_dist.prob(\"neg\"), 2))\n",
    "\n",
    "prob_dist = cl.prob_classify(\"luar biasa bagus jalannya\")\n",
    "print(cl.classify(\"luar biasa bagus jalannya\"))\n",
    "print(round(prob_dist.prob(\"pos\"), 2))\n",
    "print(round(prob_dist.prob(\"neg\"), 2))"
   ]
  },
  {
   "cell_type": "code",
   "execution_count": 13,
   "metadata": {},
   "outputs": [
    {
     "name": "stdout",
     "output_type": "stream",
     "text": [
      "Most Informative Features\n",
      "        contains(munich) = False             pos : label  =      1.3 : 1.0\n",
      "    contains(terkecuali) = False             pos : label  =      1.3 : 1.0\n",
      "          contains(laki) = False             pos : label  =      1.3 : 1.0\n",
      "           contains(les) = False             pos : label  =      1.3 : 1.0\n",
      "      contains(motifnya) = False             pos : label  =      1.3 : 1.0\n",
      "    contains(eksplorasi) = False             pos : label  =      1.3 : 1.0\n",
      "contains(mulutpemandangan) = False             pos : label  =      1.3 : 1.0\n",
      "      contains(soresore) = False             pos : label  =      1.3 : 1.0\n",
      "     contains(penetapan) = False             pos : label  =      1.3 : 1.0\n",
      "contains(tertentudisini) = False             pos : label  =      1.3 : 1.0\n",
      " contains(meninggaldari) = False             pos : label  =      1.3 : 1.0\n",
      "   contains(penggalaman) = False             pos : label  =      1.3 : 1.0\n",
      "           contains(buk) = False             pos : label  =      1.3 : 1.0\n",
      "     contains(lohkarena) = False             pos : label  =      1.3 : 1.0\n",
      "        contains(agenof) = False             pos : label  =      1.3 : 1.0\n"
     ]
    }
   ],
   "source": [
    "cl.show_informative_features(15)"
   ]
  },
  {
   "cell_type": "code",
   "execution_count": 15,
   "metadata": {},
   "outputs": [
    {
     "name": "stdout",
     "output_type": "stream",
     "text": [
      "Saya pergi ke pasar membeli ikan dan jagung, sangat menakjubkan\n"
     ]
    },
    {
     "data": {
      "text/plain": [
       "[('Saya', 'NNP'),\n",
       " ('pergi', 'NN'),\n",
       " ('ke', 'NN'),\n",
       " ('pasar', 'NN'),\n",
       " ('membeli', 'JJ'),\n",
       " ('ikan', 'JJ'),\n",
       " ('dan', 'NN'),\n",
       " ('jagung', 'NN'),\n",
       " ('sangat', 'NN'),\n",
       " ('menakjubkan', 'NN')]"
      ]
     },
     "execution_count": 15,
     "metadata": {},
     "output_type": "execute_result"
    }
   ],
   "source": [
    "from textblob import TextBlob\n",
    "kalimat = TextBlob(\"Saya pergi ke pasar membeli ikan dan jagung, sangat amazing\")\n",
    "kalimat = kalimat.translate(from_lang='en', to='id')\n",
    "print(kalimat)\n",
    "kalimat.tags"
   ]
  },
  {
   "cell_type": "code",
   "execution_count": null,
   "metadata": {},
   "outputs": [],
   "source": []
  }
 ],
 "metadata": {
  "kernelspec": {
   "display_name": "Python 3",
   "language": "python",
   "name": "python3"
  },
  "language_info": {
   "codemirror_mode": {
    "name": "ipython",
    "version": 3
   },
   "file_extension": ".py",
   "mimetype": "text/x-python",
   "name": "python",
   "nbconvert_exporter": "python",
   "pygments_lexer": "ipython3",
   "version": "3.6.5"
  }
 },
 "nbformat": 4,
 "nbformat_minor": 2
}
