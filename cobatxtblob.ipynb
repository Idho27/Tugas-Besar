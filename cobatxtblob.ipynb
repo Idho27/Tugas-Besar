{
 "cells": [
  {
   "cell_type": "code",
   "execution_count": 25,
   "metadata": {},
   "outputs": [
    {
     "ename": "ValueError",
     "evalue": "not enough values to unpack (expected 2, got 1)",
     "output_type": "error",
     "traceback": [
      "\u001b[1;31m---------------------------------------------------------------------------\u001b[0m",
      "\u001b[1;31mValueError\u001b[0m                                Traceback (most recent call last)",
      "\u001b[1;32m<ipython-input-25-da6e88b79095>\u001b[0m in \u001b[0;36m<module>\u001b[1;34m()\u001b[0m\n\u001b[0;32m      6\u001b[0m \u001b[0ma_list_of_tuple\u001b[0m \u001b[1;33m=\u001b[0m \u001b[1;33m[\u001b[0m\u001b[0mtuple\u001b[0m\u001b[1;33m(\u001b[0m\u001b[0mx\u001b[0m\u001b[1;33m.\u001b[0m\u001b[0msplit\u001b[0m\u001b[1;33m(\u001b[0m\u001b[1;34m','\u001b[0m\u001b[1;33m)\u001b[0m\u001b[1;33m)\u001b[0m \u001b[1;32mfor\u001b[0m \u001b[0mx\u001b[0m \u001b[1;32min\u001b[0m \u001b[0ma_list\u001b[0m\u001b[1;33m]\u001b[0m\u001b[1;33m\u001b[0m\u001b[0m\n\u001b[0;32m      7\u001b[0m \u001b[1;31m#print(a_list_of_tuple)\u001b[0m\u001b[1;33m\u001b[0m\u001b[1;33m\u001b[0m\u001b[0m\n\u001b[1;32m----> 8\u001b[1;33m \u001b[0mcl\u001b[0m\u001b[1;33m.\u001b[0m\u001b[0mupdate\u001b[0m\u001b[1;33m(\u001b[0m\u001b[0ma_list_of_tuple\u001b[0m\u001b[1;33m)\u001b[0m\u001b[1;33m\u001b[0m\u001b[0m\n\u001b[0m",
      "\u001b[1;32mC:\\ProgramData\\Anaconda3\\lib\\site-packages\\textblob\\classifiers.py\u001b[0m in \u001b[0;36mupdate\u001b[1;34m(self, new_data, *args, **kwargs)\u001b[0m\n\u001b[0;32m    275\u001b[0m         \"\"\"\n\u001b[0;32m    276\u001b[0m         \u001b[0mself\u001b[0m\u001b[1;33m.\u001b[0m\u001b[0mtrain_set\u001b[0m \u001b[1;33m+=\u001b[0m \u001b[0mnew_data\u001b[0m\u001b[1;33m\u001b[0m\u001b[0m\n\u001b[1;32m--> 277\u001b[1;33m         \u001b[0mself\u001b[0m\u001b[1;33m.\u001b[0m\u001b[0m_word_set\u001b[0m\u001b[1;33m.\u001b[0m\u001b[0mupdate\u001b[0m\u001b[1;33m(\u001b[0m\u001b[0m_get_words_from_dataset\u001b[0m\u001b[1;33m(\u001b[0m\u001b[0mnew_data\u001b[0m\u001b[1;33m)\u001b[0m\u001b[1;33m)\u001b[0m\u001b[1;33m\u001b[0m\u001b[0m\n\u001b[0m\u001b[0;32m    278\u001b[0m         self.train_features = [(self.extract_features(d), c)\n\u001b[0;32m    279\u001b[0m                                 for d, c in self.train_set]\n",
      "\u001b[1;32mC:\\ProgramData\\Anaconda3\\lib\\site-packages\\textblob\\classifiers.py\u001b[0m in \u001b[0;36m_get_words_from_dataset\u001b[1;34m(dataset)\u001b[0m\n\u001b[0;32m     61\u001b[0m             \u001b[1;32mreturn\u001b[0m \u001b[0mwords\u001b[0m\u001b[1;33m\u001b[0m\u001b[0m\n\u001b[0;32m     62\u001b[0m     \u001b[0mall_words\u001b[0m \u001b[1;33m=\u001b[0m \u001b[0mchain\u001b[0m\u001b[1;33m.\u001b[0m\u001b[0mfrom_iterable\u001b[0m\u001b[1;33m(\u001b[0m\u001b[0mtokenize\u001b[0m\u001b[1;33m(\u001b[0m\u001b[0mwords\u001b[0m\u001b[1;33m)\u001b[0m \u001b[1;32mfor\u001b[0m \u001b[0mwords\u001b[0m\u001b[1;33m,\u001b[0m \u001b[0m_\u001b[0m \u001b[1;32min\u001b[0m \u001b[0mdataset\u001b[0m\u001b[1;33m)\u001b[0m\u001b[1;33m\u001b[0m\u001b[0m\n\u001b[1;32m---> 63\u001b[1;33m     \u001b[1;32mreturn\u001b[0m \u001b[0mset\u001b[0m\u001b[1;33m(\u001b[0m\u001b[0mall_words\u001b[0m\u001b[1;33m)\u001b[0m\u001b[1;33m\u001b[0m\u001b[0m\n\u001b[0m\u001b[0;32m     64\u001b[0m \u001b[1;33m\u001b[0m\u001b[0m\n\u001b[0;32m     65\u001b[0m \u001b[1;32mdef\u001b[0m \u001b[0m_get_document_tokens\u001b[0m\u001b[1;33m(\u001b[0m\u001b[0mdocument\u001b[0m\u001b[1;33m)\u001b[0m\u001b[1;33m:\u001b[0m\u001b[1;33m\u001b[0m\u001b[0m\n",
      "\u001b[1;32mC:\\ProgramData\\Anaconda3\\lib\\site-packages\\textblob\\classifiers.py\u001b[0m in \u001b[0;36m<genexpr>\u001b[1;34m(.0)\u001b[0m\n\u001b[0;32m     60\u001b[0m         \u001b[1;32melse\u001b[0m\u001b[1;33m:\u001b[0m\u001b[1;33m\u001b[0m\u001b[0m\n\u001b[0;32m     61\u001b[0m             \u001b[1;32mreturn\u001b[0m \u001b[0mwords\u001b[0m\u001b[1;33m\u001b[0m\u001b[0m\n\u001b[1;32m---> 62\u001b[1;33m     \u001b[0mall_words\u001b[0m \u001b[1;33m=\u001b[0m \u001b[0mchain\u001b[0m\u001b[1;33m.\u001b[0m\u001b[0mfrom_iterable\u001b[0m\u001b[1;33m(\u001b[0m\u001b[0mtokenize\u001b[0m\u001b[1;33m(\u001b[0m\u001b[0mwords\u001b[0m\u001b[1;33m)\u001b[0m \u001b[1;32mfor\u001b[0m \u001b[0mwords\u001b[0m\u001b[1;33m,\u001b[0m \u001b[0m_\u001b[0m \u001b[1;32min\u001b[0m \u001b[0mdataset\u001b[0m\u001b[1;33m)\u001b[0m\u001b[1;33m\u001b[0m\u001b[0m\n\u001b[0m\u001b[0;32m     63\u001b[0m     \u001b[1;32mreturn\u001b[0m \u001b[0mset\u001b[0m\u001b[1;33m(\u001b[0m\u001b[0mall_words\u001b[0m\u001b[1;33m)\u001b[0m\u001b[1;33m\u001b[0m\u001b[0m\n\u001b[0;32m     64\u001b[0m \u001b[1;33m\u001b[0m\u001b[0m\n",
      "\u001b[1;31mValueError\u001b[0m: not enough values to unpack (expected 2, got 1)"
     ]
    }
   ],
   "source": [
    "from textblob.classifiers import NaiveBayesClassifier\n",
    "with open('clean.csv', 'r') as fp:\n",
    "    cl = NaiveBayesClassifier(fp, format='csv')\n",
    "a = open('clean2.csv','r').read()   # this is string\n",
    "a_list = a.split('\\n')\n",
    "a_list_of_tuple = [tuple(x.split(',')) for x in a_list]\n",
    "#print(a_list_of_tuple)\n",
    "cl.update(a_list_of_tuple)"
   ]
  },
  {
   "cell_type": "code",
   "execution_count": 19,
   "metadata": {},
   "outputs": [
    {
     "name": "stdout",
     "output_type": "stream",
     "text": [
      "pos\n",
      "0.59\n",
      "0.41\n",
      "neg\n",
      "0.15\n",
      "0.85\n",
      "neg\n",
      "0.06\n",
      "0.94\n"
     ]
    }
   ],
   "source": [
    "prob_dist = cl.prob_classify(\"tempatnya bagus, sangat luas\")\n",
    "print(cl.classify(\"tempatnya bagus, sangat luas\"))\n",
    "print(round(prob_dist.prob(\"pos\"), 2))\n",
    "print(round(prob_dist.prob(\"neg\"), 2))\n",
    "\n",
    "prob_dist = cl.prob_classify(\"banyak macet dan ramai\")\n",
    "print(cl.classify(\"banyak macet dan ramai\"))\n",
    "print(round(prob_dist.prob(\"pos\"), 2))\n",
    "print(round(prob_dist.prob(\"neg\"), 2))\n",
    "\n",
    "prob_dist = cl.prob_classify(\"luar biasa bagus jalannya\")\n",
    "print(cl.classify(\"luar biasa bagus jalannya\"))\n",
    "print(round(prob_dist.prob(\"pos\"), 2))\n",
    "print(round(prob_dist.prob(\"neg\"), 2))"
   ]
  },
  {
   "cell_type": "code",
   "execution_count": 20,
   "metadata": {},
   "outputs": [
    {
     "name": "stdout",
     "output_type": "stream",
     "text": [
      "Most Informative Features\n",
      "          contains(pagi) = True              neg : pos    =      8.3 : 1.0\n",
      "        contains(tengah) = True              pos : neg    =      6.2 : 1.0\n",
      "         contains(taban) = True              pos : neg    =      5.8 : 1.0\n",
      "         contains(macet) = True              neg : pos    =      5.0 : 1.0\n",
      "       contains(terlalu) = True              neg : pos    =      5.0 : 1.0\n",
      "       contains(sungguh) = True              pos : neg    =      5.0 : 1.0\n",
      "        contains(mereka) = True              neg : pos    =      5.0 : 1.0\n",
      "          contains(naik) = True              neg : pos    =      5.0 : 1.0\n",
      "         contains(surut) = True              pos : neg    =      5.0 : 1.0\n",
      "          contains(batu) = True              pos : neg    =      4.6 : 1.0\n",
      "          contains(tiba) = True              pos : neg    =      4.3 : 1.0\n",
      "          contains(kena) = True              neg : pos    =      4.3 : 1.0\n",
      "         contains(bosan) = True              pos : neg    =      4.2 : 1.0\n",
      "         contains(debur) = True              pos : neg    =      4.2 : 1.0\n",
      "        contains(budaya) = True              pos : neg    =      4.2 : 1.0\n"
     ]
    }
   ],
   "source": [
    "cl.show_informative_features(15)"
   ]
  },
  {
   "cell_type": "code",
   "execution_count": 15,
   "metadata": {},
   "outputs": [
    {
     "name": "stdout",
     "output_type": "stream",
     "text": [
      "Saya pergi ke pasar membeli ikan dan jagung, sangat menakjubkan\n"
     ]
    },
    {
     "data": {
      "text/plain": [
       "[('Saya', 'NNP'),\n",
       " ('pergi', 'NN'),\n",
       " ('ke', 'NN'),\n",
       " ('pasar', 'NN'),\n",
       " ('membeli', 'JJ'),\n",
       " ('ikan', 'JJ'),\n",
       " ('dan', 'NN'),\n",
       " ('jagung', 'NN'),\n",
       " ('sangat', 'NN'),\n",
       " ('menakjubkan', 'NN')]"
      ]
     },
     "execution_count": 15,
     "metadata": {},
     "output_type": "execute_result"
    }
   ],
   "source": [
    "from textblob import TextBlob\n",
    "kalimat = TextBlob(\"Saya pergi ke pasar membeli ikan dan jagung, sangat amazing\")\n",
    "kalimat = kalimat.translate(from_lang='en', to='id')\n",
    "print(kalimat)\n",
    "kalimat.tags"
   ]
  },
  {
   "cell_type": "code",
   "execution_count": null,
   "metadata": {},
   "outputs": [],
   "source": []
  }
 ],
 "metadata": {
  "kernelspec": {
   "display_name": "Python 3",
   "language": "python",
   "name": "python3"
  },
  "language_info": {
   "codemirror_mode": {
    "name": "ipython",
    "version": 3
   },
   "file_extension": ".py",
   "mimetype": "text/x-python",
   "name": "python",
   "nbconvert_exporter": "python",
   "pygments_lexer": "ipython3",
   "version": "3.6.5"
  }
 },
 "nbformat": 4,
 "nbformat_minor": 2
}
