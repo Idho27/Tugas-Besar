{
 "cells": [
  {
   "cell_type": "code",
   "execution_count": 5,
   "metadata": {},
   "outputs": [],
   "source": [
    "import glob\n",
    "path = './raw/*.csv'\n",
    "files = glob.glob(path)\n",
    "import pandas as pd\n",
    "\n",
    "def potongData(stat, data, bts):\n",
    "    if stat == 1:\n",
    "        bigger = data.loc[data['review_rating'] > 30]\n",
    "    else:\n",
    "        bigger = data.loc[data['review_rating'] <= 30]\n",
    "        \n",
    "    shorter = pd.DataFrame(columns =('review_body','review_rating'))\n",
    "    cnt = 0\n",
    "    \n",
    "    for index, row in bigger.iterrows():\n",
    "        shorter.loc[index] = row\n",
    "        cnt += 1\n",
    "        if cnt == bts:\n",
    "            break\n",
    "    return shorter"
   ]
  },
  {
   "cell_type": "code",
   "execution_count": 6,
   "metadata": {},
   "outputs": [
    {
     "name": "stdout",
     "output_type": "stream",
     "text": [
      "./raw\\Batur_Natural_Hotspring-Bali__id.csv\n",
      "./raw\\Garuda_Wisnu_Kencana_Cultural_Park-Ungasan_Nusa_Dua_Peninsula_Bali__id.csv\n",
      "./raw\\Tanah_Lot_Temple-Beraban_Bali__id.csv\n",
      "./raw\\Tegalalang_Rice_Terrace-Ubud_Gianyar_Bali__id.csv\n",
      "./raw\\Yeh_Sanih_Spring-Singaraja_Bali__id.csv\n",
      "2768\n",
      "                                            review_body review_rating\n",
      "0     Setelah mendaki Gunung Batur, sangat cocok mel...            40\n",
      "1     Terdapat sejumlah pemandian air panas di Bali,...            50\n",
      "2     Saya kesana bersama teman teman untuk menghabi...            50\n",
      "3     Pemandangannya bagus sekali. Cocok buat relax....            30\n",
      "4     Recommended untuk Batur Natural Hot Spring ini...            50\n",
      "5     Tempat yang sangat indah,saya datang bersama k...            40\n",
      "6     Tempat yang cocok sekali untuk relaksasi dan m...            50\n",
      "7     meskipun air panasnya tidak terlalu panas, tap...            40\n",
      "8     Aku ada di sana di babak kedua hari ini, ada s...            50\n",
      "9     Suasana nya menyenangkan bikin pikiran fresh s...            50\n",
      "10    Setelah mendaki Gunung Batur, sangat cocok mel...            40\n",
      "11    Terdapat sejumlah pemandian air panas di Bali,...            50\n",
      "12    Saya kesana bersama teman teman untuk menghabi...            50\n",
      "13    Pemandangannya bagus sekali. Cocok buat relax....            30\n",
      "14    Recommended untuk Batur Natural Hot Spring ini...            50\n",
      "15    Tempat yang sangat indah,saya datang bersama k...            40\n",
      "16    Tempat yang cocok sekali untuk relaksasi dan m...            50\n",
      "17    meskipun air panasnya tidak terlalu panas, tap...            40\n",
      "18    Aku ada di sana di babak kedua hari ini, ada s...            50\n",
      "19    Suasana nya menyenangkan bikin pikiran fresh s...            50\n",
      "20    Batur natural hotspring Salah satu tempat wisa...            40\n",
      "21    Setelah beberapa hari kami berwisata di Bali, ...            40\n",
      "22    Obyek ini terletak di daerah Kintamani, Bali. ...            50\n",
      "23    Pertama kali saya datang ke pemandian air pana...            40\n",
      "24    Terkadang objek wisata di daerah perkotaan ter...            40\n",
      "25    Batur natural hotspring Salah satu tempat wisa...            40\n",
      "26    Setelah beberapa hari kami berwisata di Bali, ...            40\n",
      "27    Obyek ini terletak di daerah Kintamani, Bali. ...            50\n",
      "28    Pertama kali saya datang ke pemandian air pana...            40\n",
      "29    Terkadang objek wisata di daerah perkotaan ter...            40\n",
      "...                                                 ...           ...\n",
      "2738  Jujur ini baru pertama kalinya melihat sawah t...            40\n",
      "2739  Sawah yang terbentang luas ditambah dengan hij...            40\n",
      "2740  Saat terbaik datang ke Tegalalang adalah sekit...            40\n",
      "2741  Ceking-Ceking Tegalalang dikenal sebagai objek...            40\n",
      "2742  Pemandangan ini banyak dijumpai di daerah lain...            30\n",
      "2743  Keindahan hamparan sawah yang luas dan bertump...            40\n",
      "2744  Positif : pemandangan tidak seindah Jatiluwih,...            40\n",
      "2745  Bali bukan hanya tentang wisata pantai dan pur...            40\n",
      "2746  Belum lama ini saya berkesempatan untuk mengun...            40\n",
      "2747  Belokasi di ubud, tegallalang berudara sejuk. ...            40\n",
      "2748  Jujur ini baru pertama kalinya melihat sawah t...            40\n",
      "2749  Sawah yang terbentang luas ditambah dengan hij...            40\n",
      "2750  untuk pengunjung yang di tegalalang dan tiba w...            30\n",
      "2751  Pemandangannya memang bagus,tapi masih banyak ...            30\n",
      "2752  Sangat indah. Kolam yang memiliki sumber mata ...            50\n",
      "2753  Kesini untuk mandi air panas bersama pasangan....            40\n",
      "2754  Salah satu tempat wisata favorit ketika ke sin...            40\n",
      "2755  pemandian air sanih ini cukup terkenal di kala...            30\n",
      "2756  Pemandian air panas Yes Sanih memiliki keunika...            40\n",
      "2757  Tempatnya sangat bagus, tersedia kolam renang ...            40\n",
      "2758  Tempat yang bagus dapat dua pemandangan keren....            40\n",
      "2759  Air panasnya enak sekali buat berendam dan kat...            30\n",
      "2760  Sangat indah. Kolam yang memiliki sumber mata ...            50\n",
      "2761  Kesini untuk mandi air panas bersama pasangan....            40\n",
      "2762  Salah satu tempat wisata favorit ketika ke sin...            40\n",
      "2763  pemandian air sanih ini cukup terkenal di kala...            30\n",
      "2764  Pemandian air panas Yes Sanih memiliki keunika...            40\n",
      "2765  Tempatnya sangat bagus, tersedia kolam renang ...            40\n",
      "2766  Tempat yang bagus dapat dua pemandangan keren....            40\n",
      "2767  Air panasnya enak sekali buat berendam dan kat...            30\n",
      "\n",
      "[2768 rows x 2 columns]\n"
     ]
    }
   ],
   "source": [
    "data = pd.DataFrame(columns =('review_body','review_rating'))\n",
    "#data = pd.read_csv('Tegalalang_Rice_Terrace-Ubud_Gianyar_Bali__id.csv')\n",
    "\n",
    "for file in files:\n",
    "    print(file)\n",
    "    data = pd.concat([data,(pd.read_csv(file))], ignore_index=True)\n",
    "\n",
    "print(len(data))\n",
    "print(data)"
   ]
  },
  {
   "cell_type": "code",
   "execution_count": 7,
   "metadata": {},
   "outputs": [
    {
     "name": "stdout",
     "output_type": "stream",
     "text": [
      "708\n",
      "354\n"
     ]
    }
   ],
   "source": [
    "shorter = pd.DataFrame(columns =('review_body','review_rating'))\n",
    "\n",
    "if len(data.loc[data['review_rating'] <= 30]) > len(data.loc[data['review_rating'] > 30]):\n",
    "    shorter = potongData(0, data, len(data.loc[data['review_rating'] > 30]))\n",
    "    shorter = pd.concat([shorter,(data.loc[data['review_rating'] <= 30])], ignore_index=True)\n",
    "elif len(data.loc[data['review_rating'] <= 30]) < len(data.loc[data['review_rating'] > 30]):\n",
    "    shorter = potongData(1, data, len(data.loc[data['review_rating'] <= 30]))\n",
    "    shorter = pd.concat([shorter,(data.loc[data['review_rating'] <= 30])], ignore_index=True)\n",
    "\n",
    "print (len(shorter))\n",
    "#print (shorter)\n",
    "print (len(shorter.loc[shorter['review_rating'] <= 30]))\n",
    "\n",
    "for index, row in shorter.iterrows():\n",
    "    if row['review_rating'] <= 30:\n",
    "        shorter.loc[index]['review_rating'] = 'neg'\n",
    "    else:\n",
    "        shorter.loc[index]['review_rating'] = 'pos'\n",
    "\n",
    "shorter.to_csv('equal.csv', index=False)"
   ]
  },
  {
   "cell_type": "code",
   "execution_count": null,
   "metadata": {},
   "outputs": [],
   "source": []
  }
 ],
 "metadata": {
  "kernelspec": {
   "display_name": "Python 3",
   "language": "python",
   "name": "python3"
  },
  "language_info": {
   "codemirror_mode": {
    "name": "ipython",
    "version": 3
   },
   "file_extension": ".py",
   "mimetype": "text/x-python",
   "name": "python",
   "nbconvert_exporter": "python",
   "pygments_lexer": "ipython3",
   "version": "3.6.5"
  }
 },
 "nbformat": 4,
 "nbformat_minor": 2
}
