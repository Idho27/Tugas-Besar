{
 "cells": [
  {
   "cell_type": "code",
   "execution_count": 29,
   "metadata": {},
   "outputs": [],
   "source": [
    "import glob\n",
    "path = './*.csv'\n",
    "files = glob.glob(path)\n",
    "\n",
    "def potongData(stat, data, bts):\n",
    "    if stat == 1:\n",
    "        bigger = data.loc[data['review_rating'] > 30]\n",
    "    else:\n",
    "        bigger = data.loc[data['review_rating'] <= 30]\n",
    "        \n",
    "    shorter = pd.DataFrame(columns =('review_body','review_rating'))\n",
    "    cnt = 0\n",
    "    \n",
    "    for index, row in bigger.iterrows():\n",
    "        shorter.loc[index] = row\n",
    "        cnt += 1\n",
    "        if cnt == bts:\n",
    "            break\n",
    "    return shorter"
   ]
  },
  {
   "cell_type": "code",
   "execution_count": 34,
   "metadata": {},
   "outputs": [
    {
     "name": "stdout",
     "output_type": "stream",
     "text": [
      ".\\Tanah_Lot_Temple-Beraban_Bali__id.csv\n",
      ".\\Tegalalang_Rice_Terrace-Ubud_Gianyar_Bali__id.csv\n",
      ".\\Yeh_Sanih_Spring-Singaraja_Bali__id.csv\n",
      "1876\n",
      "                                            review_body review_rating\n",
      "0     Sangat menyenangkan perjalanan tidak jauh dari...            50\n",
      "1     Menjadi salah satu situs ibadah di Bali yang p...            50\n",
      "2     Perjalanan yang sangat menyenangkan dipandu ol...            50\n",
      "3     Pura untuk umat Hindu yang penting. Penggunaan...            50\n",
      "4     Pura tanah lot adalah salah satu tempat wisata...            50\n",
      "5     gak afdol kalau ke bali gak kesini.. lagi dan ...            50\n",
      "6     Tempat wisata alam di bali, yang berbeda dari ...            50\n",
      "7     Aku sampai tiga kali mengunjungi pura tanah lo...            50\n",
      "8     Cocok untuk mengamati sunset ditepi pantai. Sa...            50\n",
      "9     Salah satu objek wisata yg mesti dikunjungi ke...            50\n",
      "10    Sangat menyenangkan perjalanan tidak jauh dari...            50\n",
      "11    Menjadi salah satu situs ibadah di Bali yang p...            50\n",
      "12    Perjalanan yang sangat menyenangkan dipandu ol...            50\n",
      "13    Pura untuk umat Hindu yang penting. Penggunaan...            50\n",
      "14    Pura tanah lot adalah salah satu tempat wisata...            50\n",
      "15    gak afdol kalau ke bali gak kesini.. lagi dan ...            50\n",
      "16    Tempat wisata alam di bali, yang berbeda dari ...            50\n",
      "17    Aku sampai tiga kali mengunjungi pura tanah lo...            50\n",
      "18    Cocok untuk mengamati sunset ditepi pantai. Sa...            50\n",
      "19    Salah satu objek wisata yg mesti dikunjungi ke...            50\n",
      "20    tepatnya bagus..terawat ..rapih dan bersih... ...            40\n",
      "21    Cocok banget untuk wisata dan lebih banyak men...            50\n",
      "22    Hay hay... Saya sekarang ada di Bali..Tujuan p...            40\n",
      "23    Tanah lot itu awalnya adalah tanah laut, karen...            50\n",
      "24    kalo ditengah kota ada pantai Kuta maka diping...            50\n",
      "25    Pura tanah lot adalah salah satu tempat untuk ...            50\n",
      "26    Sangat di sarankan datang di saat air pantai s...            50\n",
      "27    Pemandangan pura dengan laut yg menggoda,parki...            50\n",
      "28    Tanah lot punya pesona yg luar biasa indah, gk...            50\n",
      "29    Berjarak 1 jam perjalanan dari pantai kuta Pur...            40\n",
      "...                                                 ...           ...\n",
      "1846  Jujur ini baru pertama kalinya melihat sawah t...            40\n",
      "1847  Sawah yang terbentang luas ditambah dengan hij...            40\n",
      "1848  Saat terbaik datang ke Tegalalang adalah sekit...            40\n",
      "1849  Ceking-Ceking Tegalalang dikenal sebagai objek...            40\n",
      "1850  Pemandangan ini banyak dijumpai di daerah lain...            30\n",
      "1851  Keindahan hamparan sawah yang luas dan bertump...            40\n",
      "1852  Positif : pemandangan tidak seindah Jatiluwih,...            40\n",
      "1853  Bali bukan hanya tentang wisata pantai dan pur...            40\n",
      "1854  Belum lama ini saya berkesempatan untuk mengun...            40\n",
      "1855  Belokasi di ubud, tegallalang berudara sejuk. ...            40\n",
      "1856  Jujur ini baru pertama kalinya melihat sawah t...            40\n",
      "1857  Sawah yang terbentang luas ditambah dengan hij...            40\n",
      "1858  untuk pengunjung yang di tegalalang dan tiba w...            30\n",
      "1859  Pemandangannya memang bagus,tapi masih banyak ...            30\n",
      "1860  Sangat indah. Kolam yang memiliki sumber mata ...            50\n",
      "1861  Kesini untuk mandi air panas bersama pasangan....            40\n",
      "1862  Salah satu tempat wisata favorit ketika ke sin...            40\n",
      "1863  pemandian air sanih ini cukup terkenal di kala...            30\n",
      "1864  Pemandian air panas Yes Sanih memiliki keunika...            40\n",
      "1865  Tempatnya sangat bagus, tersedia kolam renang ...            40\n",
      "1866  Tempat yang bagus dapat dua pemandangan keren....            40\n",
      "1867  Air panasnya enak sekali buat berendam dan kat...            30\n",
      "1868  Sangat indah. Kolam yang memiliki sumber mata ...            50\n",
      "1869  Kesini untuk mandi air panas bersama pasangan....            40\n",
      "1870  Salah satu tempat wisata favorit ketika ke sin...            40\n",
      "1871  pemandian air sanih ini cukup terkenal di kala...            30\n",
      "1872  Pemandian air panas Yes Sanih memiliki keunika...            40\n",
      "1873  Tempatnya sangat bagus, tersedia kolam renang ...            40\n",
      "1874  Tempat yang bagus dapat dua pemandangan keren....            40\n",
      "1875  Air panasnya enak sekali buat berendam dan kat...            30\n",
      "\n",
      "[1876 rows x 2 columns]\n"
     ]
    }
   ],
   "source": [
    "import pandas as pd\n",
    "data = pd.DataFrame(columns =('review_body','review_rating'))\n",
    "#data = pd.read_csv('Tegalalang_Rice_Terrace-Ubud_Gianyar_Bali__id.csv')\n",
    "\n",
    "for file in files:\n",
    "    print(file)\n",
    "    data = pd.concat([data,(pd.read_csv(file))], ignore_index=True)\n",
    "\n",
    "print(len(data))\n",
    "print(data)"
   ]
  },
  {
   "cell_type": "code",
   "execution_count": 41,
   "metadata": {},
   "outputs": [
    {
     "name": "stdout",
     "output_type": "stream",
     "text": [
      "340\n",
      "170\n"
     ]
    }
   ],
   "source": [
    "shorter = pd.DataFrame(columns =('review_body','review_rating'))\n",
    "\n",
    "if len(data.loc[data['review_rating'] <= 30]) > len(data.loc[data['review_rating'] > 30]):\n",
    "    shorter = potongData(0, data, len(data.loc[data['review_rating'] > 30]))\n",
    "    shorter = pd.concat([shorter,(data.loc[data['review_rating'] <= 30])], ignore_index=True)\n",
    "elif len(data.loc[data['review_rating'] <= 30]) < len(data.loc[data['review_rating'] > 30]):\n",
    "    shorter = potongData(1, data, len(data.loc[data['review_rating'] <= 30]))\n",
    "    shorter = pd.concat([shorter,(data.loc[data['review_rating'] <= 30])], ignore_index=True)\n",
    "\n",
    "print (len(shorter))\n",
    "#print (shorter)\n",
    "print (len(shorter.loc[shorter['review_rating'] <= 30]))\n",
    "\n",
    "for index, row in shorter.iterrows():\n",
    "    if row['review_rating'] <= 30:\n",
    "        shorter.loc[index]['review_rating'] = 'neg'\n",
    "    else:\n",
    "        shorter.loc[index]['review_rating'] = 'pos'\n",
    "\n",
    "shorter.to_csv('equal.csv', index=False)"
   ]
  },
  {
   "cell_type": "code",
   "execution_count": null,
   "metadata": {},
   "outputs": [],
   "source": []
  }
 ],
 "metadata": {
  "kernelspec": {
   "display_name": "Python 3",
   "language": "python",
   "name": "python3"
  },
  "language_info": {
   "codemirror_mode": {
    "name": "ipython",
    "version": 3
   },
   "file_extension": ".py",
   "mimetype": "text/x-python",
   "name": "python",
   "nbconvert_exporter": "python",
   "pygments_lexer": "ipython3",
   "version": "3.6.5"
  }
 },
 "nbformat": 4,
 "nbformat_minor": 2
}
