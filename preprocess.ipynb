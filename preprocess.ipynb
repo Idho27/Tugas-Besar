{
 "cells": [
  {
   "cell_type": "code",
   "execution_count": 5,
   "metadata": {},
   "outputs": [],
   "source": [
    "from Sastrawi.Stemmer.StemmerFactory import StemmerFactory\n",
    "import re\n",
    "\n",
    "def removeNoise(s):\n",
    "    text = re.sub('[^\\w\\s]','', s)\n",
    "    return text\n",
    "\n",
    "def casefolding(s):\n",
    "    new_str = s.lower()\n",
    "    \n",
    "    return new_str\n",
    "\n",
    "def stemmingIndo(s):\n",
    "    factory = StemmerFactory()\n",
    "    stemmer = factory.create_stemmer()\n",
    "    return stemmer.stem(s)\n",
    "\n",
    "def cleaning(s):\n",
    "    teks = stemmingIndo(casefolding(removeNoise(s)))\n",
    "    return teks"
   ]
  },
  {
   "cell_type": "code",
   "execution_count": 7,
   "metadata": {},
   "outputs": [
    {
     "name": "stdout",
     "output_type": "stream",
     "text": [
      "saya tidak lihat dia pergi ke jakarta hanya percaya itu mungkin\n"
     ]
    }
   ],
   "source": [
    "coba = ('saya tidak melihat dia pergi ke Jakarta, hanya percaya itu.... mungkin')\n",
    "print(cleaning(coba))"
   ]
  },
  {
   "cell_type": "code",
   "execution_count": 13,
   "metadata": {},
   "outputs": [
    {
     "name": "stdout",
     "output_type": "stream",
     "text": [
      "                                           review_body review_rating\n",
      "0    sangat senang jalan tidak jauh dari kota denpa...           pos\n",
      "1    jadi salah satu situs ibadah di bal yang patut...           pos\n",
      "2    jalan yang sangat senang pandu oleh guide yang...           pos\n",
      "3    pura untuk umat hindu yang penting guna dan du...           pos\n",
      "4    pura tanah lot adalah salah satu tempat wisata...           pos\n",
      "5    gak afdol kalau ke bal gak kesini lagi dan lag...           pos\n",
      "6    tempat wisata alam di bal yang beda dari yang ...           pos\n",
      "7    aku sampai tiga kali unjung pura tanah lot di ...           pos\n",
      "8    cocok untuk amat sunset tepi pantai saran jang...           pos\n",
      "9    salah satu objek wisata yg mesti kunjung ketik...           pos\n",
      "10   sangat senang jalan tidak jauh dari kota denpa...           pos\n",
      "11   jadi salah satu situs ibadah di bal yang patut...           pos\n",
      "12   jalan yang sangat senang pandu oleh guide yang...           pos\n",
      "13   pura untuk umat hindu yang penting guna dan du...           pos\n",
      "14   pura tanah lot adalah salah satu tempat wisata...           pos\n",
      "15   gak afdol kalau ke bal gak kesini lagi dan lag...           pos\n",
      "16   tempat wisata alam di bal yang beda dari yang ...           pos\n",
      "17   aku sampai tiga kali unjung pura tanah lot di ...           pos\n",
      "18   cocok untuk amat sunset tepi pantai saran jang...           pos\n",
      "19   salah satu objek wisata yg mesti kunjung ketik...           pos\n",
      "20   tepat bagusterawat rapih dan bersih hanya saja...           pos\n",
      "21   cocok banget untuk wisata dan lebih banyak ken...           pos\n",
      "22   hay hay saya sekarang ada di balitujuan pertam...           pos\n",
      "23   tanah lot itu awal adalah tanah laut karena bi...           pos\n",
      "24   kalo tengah kota ada pantai kuta maka pinggir ...           pos\n",
      "25   pura tanah lot adalah salah satu tempat untuk ...           pos\n",
      "26   sangat di saran datang di saat air pantai seda...           pos\n",
      "27   pandang pura dengan laut yg menggodaparkir yan...           pos\n",
      "28   tanah lot punya pesona yg luar biasa indah gk ...           pos\n",
      "29   jarak 1 jam jalan dari pantai kuta pura tanah ...           pos\n",
      "..                                                 ...           ...\n",
      "310  teras sawah tegalalang seperti dalam lukis pan...           neg\n",
      "311  pandang sawah padi bagus di lihat pada saat mu...           neg\n",
      "312  sawah bagussepertinya sudah di atur untuk turi...           neg\n",
      "313  sawah bagussepertinya sudah di atur untuk turi...           neg\n",
      "314  salah satu tempat yg kunjung untuk spot foto p...           neg\n",
      "315  salah satu tempat yg kunjung untuk spot foto p...           neg\n",
      "316  sawah tangga ini memang indah letak di pinggir...           neg\n",
      "317  mungkin tempat ini lebih cocok tuju untuk wisa...           neg\n",
      "318  tempat yang indah namun cukup ramai cocok untu...           neg\n",
      "319  sawah terasiring seperti ini tidak luar biasa ...           neg\n",
      "320  sawah tangga ini memang indah letak di pinggir...           neg\n",
      "321  mungkin tempat ini lebih cocok tuju untuk wisa...           neg\n",
      "322  tempat yang indah namun cukup ramai cocok untu...           neg\n",
      "323  sawah terasiring seperti ini tidak luar biasa ...           neg\n",
      "324  jika kita tetap tahan lahanlahan sawah lahan t...           neg\n",
      "325  pada alam dua kali ke ubud kami keluarga penas...           neg\n",
      "326  jika kita tetap tahan lahanlahan sawah lahan t...           neg\n",
      "327  pada alam dua kali ke ubud kami keluarga penas...           neg\n",
      "328  mungkin nama terlalu dibesarbesarkan dari ada ...           neg\n",
      "329  unik ada di tepi jalan yang sempit tidak ada t...           neg\n",
      "330  mungkin nama terlalu dibesarbesarkan dari ada ...           neg\n",
      "331  unik ada di tepi jalan yang sempit tidak ada t...           neg\n",
      "332  pandang ini banyak jumpa di daerah lain di ind...           neg\n",
      "333  pandang ini banyak jumpa di daerah lain di ind...           neg\n",
      "334  untuk unjung yang di tegalalang dan tiba waktu...           neg\n",
      "335  pandang memang bagustapi masih banyak juga ada...           neg\n",
      "336  mandi air sanih ini cukup kenal di kalang warg...           neg\n",
      "337  air panas enak sekali buat rendam dan kata bis...           neg\n",
      "338  mandi air sanih ini cukup kenal di kalang warg...           neg\n",
      "339  air panas enak sekali buat rendam dan kata bis...           neg\n",
      "\n",
      "[340 rows x 2 columns]\n"
     ]
    }
   ],
   "source": [
    "from textblob import TextBlob\n",
    "import pandas as pd\n",
    "\n",
    "data = pd.read_csv('equal.csv')\n",
    "\n",
    "for index, row in data.iterrows():\n",
    "    #kal = str(TextBlob(row['review_body']).translate(from_lang='en', to='id'))\n",
    "    kal = row['review_body']\n",
    "    data.loc[index]['review_body'] = cleaning(kal)\n",
    "\n",
    "print(data)"
   ]
  },
  {
   "cell_type": "code",
   "execution_count": 15,
   "metadata": {},
   "outputs": [],
   "source": [
    "data.to_csv('clean.csv', index=False)"
   ]
  },
  {
   "cell_type": "code",
   "execution_count": 24,
   "metadata": {},
   "outputs": [
    {
     "name": "stdout",
     "output_type": "stream",
     "text": [
      "                                                    text class\n",
      "0      wisata alun alun kidul selatan keratin malam s...   Pos\n",
      "1      alun alun selatan  jm malam ramai dikarena mob...   Pos\n",
      "2       mantap gak  alunalun kidul selatan jogjaini p...   Pos\n",
      "3      menikmat indah sore malam alunalun kidul senan...   Pos\n",
      "4      seru keliling alunalun mobil lampu biaya terja...   Pos\n",
      "5        alun alun lapangan kota kota  mitos  pohon b...   Pos\n",
      "6      yaaa akalu gak alun alun kidul kek ritual ksni...   Pos\n",
      "7       sekedar nongkrong kumpul teman malam nikmat i...   Pos\n",
      "8      seru  malam odong mobil sepeda dihias penuh la...   Pos\n",
      "9       liat pohon beringin legendaris makan  alun alun    Pos\n",
      "10      cocok habis malam mutermuter alunalun kidul s...   Pos\n",
      "11      mencoba odongodong lampu hias sayang musim li...   Pos\n",
      "12     halaman kediaman raja sarat folklore akrab alu...   Pos\n",
      "13     beringin kembar pasangan lewatnya tutup langge...   Pos\n",
      "14     wisata  unik  ditempat keliling becak wisata w...   Pos\n",
      "15     akun alun selatan alun alun kidul mistis pohon...   Pos\n",
      "16     suasana hidup merkayat santai gambar alun alun...   Pos\n",
      "17     alunalun keraton luas kumpul warga kadangkadan...   Pos\n",
      "18      bersejarah khas bangunan keraton mobil hias b...   Pos\n",
      "19      senang wisata malam cocok indah  malam malam ...   Pos\n",
      "20      suasana  alun alun selatan relatif tenang dam...   Pos\n",
      "21     alun alun kidul setau lahirnya kreasi sepeda l...   Pos\n",
      "22      malem mobil kayuhnya super duper heboh full m...   Pos\n",
      "23     alunalun letak  aktivitas warga hilir mudik al...   Pos\n",
      "24     alun alun kuliah lokasi lesehan tenang anak an...   Pos\n",
      "25      cocok salah istirahat  cocok lg sore menjelan...   Pos\n",
      "26     duduk santai menikmat wedang ronde keasikan te...   Pos\n",
      "27      spesial becak berlampu trus  gerbang pohon tu...   Pos\n",
      "28      selatan keraton alunalun selatan warga main b...   Pos\n",
      "29      beringin unik percaya tutup  beringin hati be...   Pos\n",
      "...                                                  ...   ...\n",
      "11372   mobil capai pengalaman piease mengupahi jalan...   Neg\n",
      "11373  letak kendara pusat kota perjalan supir pribad...   Neg\n",
      "11374   jalan bukit alat selamat lengkap foto musim k...   Neg\n",
      "11375  hotel sulit capai merekomendasi sepeda motor p...   Neg\n",
      "11376    ramai terbaik relaksasi  mencoba pengalaman ...   Neg\n",
      "11377   kalibiru kulon progo kota mobil motor miskin ...   Neg\n",
      "11378   juli benarbenar penuh sesak media sosial sala...   Neg\n",
      "11379   danau menelepo waduk sermo bukit indah  pagi ...   Neg\n",
      "11380  mengamati matahari terbenam embarau bukit peng...   Neg\n",
      "11381   tidur rumah tradisional hotel  ac jst lantai ...   Neg\n",
      "11382   letak area barat capai kendara jalan bagus le...   Neg\n",
      "11383  taman nasional kalibiru salah layanan   juni m...   Neg\n",
      "11384   salah indah pemandangan takjub belah waduk se...   Neg\n",
      "11385   tawar jalur joging akomodasi objek wisata  fo...   Neg\n",
      "11386  kalibiru dasar waduk sermo pemandangan takjub ...   Neg\n",
      "11387   tawar jalur joging akomodasi objek wisata  fo...   Neg\n",
      "11388  kalibiru dasar waduk sermo pemandangan takjub ...   Neg\n",
      "11389    udah  jenis rawat mencoba rawat india ayurve...   Neg\n",
      "11390  jalan jalan matinya wisata bersih makan ragam ...   Neg\n",
      "11391   pikir spa mahal putri jawa jatuh cinta nilai ...   Neg\n",
      "11392   spa teman  sesal mencoba mencoba rawat ayurveda    Neg\n",
      "11393  layak bersih pijat nilai staf senang ramah lay...   Neg\n",
      "11394    google spa daerah reservasi situs web ragu m...   Neg\n",
      "11395   cokelat pijat spa rawat kaki pijat nilai gadi...   Neg\n",
      "11396    google spa daerah reservasi situs web ragu m...   Neg\n",
      "11397   cokelat pijat spa rawat kaki pijat nilai gadi...   Neg\n",
      "11398  teman minggu ibunya supri ramah  gumuk pasir b...   Neg\n",
      "11399    keluarga anak usia habis membalik perjalan p...   Neg\n",
      "11400   pemandu perjalan solo mudah komunikasi ramah ...   Neg\n",
      "11401   pemandu perjalan solo mudah komunikasi ramah ...   Neg\n",
      "\n",
      "[11402 rows x 2 columns]\n"
     ]
    }
   ],
   "source": [
    "import glob\n",
    "files = glob.glob('./bersih/*.csv')\n",
    "\n",
    "#for file in files:\n",
    "    \n",
    "data2 = pd.read_excel('./bersih/data reviews naivebayes.xlsx')\n",
    "\n",
    "data2 = data2.reindex(columns=['text','class'])\n",
    "print(data2)"
   ]
  },
  {
   "cell_type": "code",
   "execution_count": 26,
   "metadata": {},
   "outputs": [],
   "source": [
    "for index, row in data2.iterrows():\n",
    "    if row['class'] == 'Neg':\n",
    "        data2.loc[index]['class'] = 'neg'\n",
    "    else:\n",
    "        data2.loc[index]['class'] = 'pos'\n",
    "        \n",
    "data2.to_csv('clean2.csv', index=False)"
   ]
  },
  {
   "cell_type": "code",
   "execution_count": null,
   "metadata": {},
   "outputs": [],
   "source": []
  }
 ],
 "metadata": {
  "kernelspec": {
   "display_name": "Python 3",
   "language": "python",
   "name": "python3"
  },
  "language_info": {
   "codemirror_mode": {
    "name": "ipython",
    "version": 3
   },
   "file_extension": ".py",
   "mimetype": "text/x-python",
   "name": "python",
   "nbconvert_exporter": "python",
   "pygments_lexer": "ipython3",
   "version": "3.6.5"
  }
 },
 "nbformat": 4,
 "nbformat_minor": 2
}
