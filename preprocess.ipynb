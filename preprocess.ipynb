{
 "cells": [
  {
   "cell_type": "code",
   "execution_count": 14,
   "metadata": {},
   "outputs": [],
   "source": [
    "from Sastrawi.Stemmer.StemmerFactory import StemmerFactory\n",
    "import re\n",
    "from textblob import TextBlob\n",
    "import pandas as pd\n",
    "\n",
    "def removeNoise(s):\n",
    "    text = re.sub('[^\\w\\s]','', s)\n",
    "    return text\n",
    "\n",
    "def casefolding(s):\n",
    "    new_str = s.lower()\n",
    "    \n",
    "    return new_str\n",
    "\n",
    "def stemmingIndo(s):\n",
    "    factory = StemmerFactory()\n",
    "    stemmer = factory.create_stemmer()\n",
    "    return stemmer.stem(s)\n",
    "\n",
    "def cleaning(s):\n",
    "    teks = stemmingIndo(casefolding(removeNoise(s)))\n",
    "    return teks"
   ]
  },
  {
   "cell_type": "code",
   "execution_count": 15,
   "metadata": {},
   "outputs": [
    {
     "name": "stdout",
     "output_type": "stream",
     "text": [
      "saya tidak lihat dia pergi ke jakarta hanya percaya itu mungkin\n"
     ]
    }
   ],
   "source": [
    "coba = ('saya tidak melihat dia pergi ke Jakarta, hanya percaya itu.... mungkin')\n",
    "print(cleaning(coba))"
   ]
  },
  {
   "cell_type": "code",
   "execution_count": null,
   "metadata": {},
   "outputs": [],
   "source": [
    "data = pd.read_csv('equal.csv')\n",
    "\n",
    "for index, row in data.iterrows():\n",
    "    #kal = str(TextBlob(row['review_body']).translate(from_lang='en', to='id'))\n",
    "    kal = row['review_body']\n",
    "    data.loc[index]['review_body'] = cleaning(kal)\n",
    "\n",
    "print(data)"
   ]
  },
  {
   "cell_type": "code",
   "execution_count": 5,
   "metadata": {},
   "outputs": [],
   "source": [
    "data.to_csv('clean.csv', index=False)"
   ]
  },
  {
   "cell_type": "code",
   "execution_count": 11,
   "metadata": {},
   "outputs": [
    {
     "name": "stdout",
     "output_type": "stream",
     "text": [
      "                                            review_text label\n",
      "0     wisata alun alun kidul selatan keratin malam s...   Pos\n",
      "1     alun alun selatan  jm malam ramai dikarena mob...   Pos\n",
      "2      mantap gak  alunalun kidul selatan jogjaini p...   Pos\n",
      "3     menikmat indah sore malam alunalun kidul senan...   Pos\n",
      "4     seru keliling alunalun mobil lampu biaya terja...   Pos\n",
      "5       alun alun lapangan kota kota  mitos  pohon b...   Pos\n",
      "6     yaaa akalu gak alun alun kidul kek ritual ksni...   Pos\n",
      "7      sekedar nongkrong kumpul teman malam nikmat i...   Pos\n",
      "8     seru  malam odong mobil sepeda dihias penuh la...   Pos\n",
      "9      liat pohon beringin legendaris makan  alun alun    Pos\n",
      "10     cocok habis malam mutermuter alunalun kidul s...   Pos\n",
      "11     mencoba odongodong lampu hias sayang musim li...   Pos\n",
      "12    halaman kediaman raja sarat folklore akrab alu...   Pos\n",
      "13    beringin kembar pasangan lewatnya tutup langge...   Pos\n",
      "14    wisata  unik  ditempat keliling becak wisata w...   Pos\n",
      "15    akun alun selatan alun alun kidul mistis pohon...   Pos\n",
      "16    suasana hidup merkayat santai gambar alun alun...   Pos\n",
      "17    alunalun keraton luas kumpul warga kadangkadan...   Pos\n",
      "18     bersejarah khas bangunan keraton mobil hias b...   Pos\n",
      "19     senang wisata malam cocok indah  malam malam ...   Pos\n",
      "20     suasana  alun alun selatan relatif tenang dam...   Pos\n",
      "21    alun alun kidul setau lahirnya kreasi sepeda l...   Pos\n",
      "22     malem mobil kayuhnya super duper heboh full m...   Pos\n",
      "23    alunalun letak  aktivitas warga hilir mudik al...   Pos\n",
      "24    alun alun kuliah lokasi lesehan tenang anak an...   Pos\n",
      "25     cocok salah istirahat  cocok lg sore menjelan...   Pos\n",
      "26    duduk santai menikmat wedang ronde keasikan te...   Pos\n",
      "27     spesial becak berlampu trus  gerbang pohon tu...   Pos\n",
      "28     selatan keraton alunalun selatan warga main b...   Pos\n",
      "29     beringin unik percaya tutup  beringin hati be...   Pos\n",
      "...                                                 ...   ...\n",
      "1970       kamera alih gambar   museum lilin salah f...   Neg\n",
      "1971  museum bagus gambar  suka gambar pengalaman mu...   Neg\n",
      "1972   segar selfieagak bosan wefie pecandu suka ana...   Neg\n",
      "1973   museum dingin anak remaja anakanak dasar gila...   Neg\n",
      "1974   siasatku matam mari senang berat ruang sempit...   Neg\n",
      "1975   makan koridor sempit terbatas parkir benarben...   Neg\n",
      "1976   mendengar teman keluarga  foto  trickeye nega...   Neg\n",
      "1977   lukisan foto lukisan nyata lukisan teratur di...   Neg\n",
      "1978    pasangan tengahs senang museum  bunuh entri ...   Neg\n",
      "1979   photoku mengupas dinding kotor foto  nyata ca...   Neg\n",
      "1980   sedia foto kompeten penyortirannya mudah tema...   Neg\n",
      "1981   bagus menikmat foto kelemahan cahaya buruk se...   Neg\n",
      "1982  de museum salah objek wisata kagum suka fotogr...   Neg\n",
      "1983   khas budaya tamasya bagus  senang trik fotogr...   Neg\n",
      "1984  de museum salah objek wisata kagum suka fotogr...   Neg\n",
      "1985   khas budaya tamasya bagus  senang trik fotogr...   Neg\n",
      "1986  desa wisata lokasi pegunungan daerah samigaluh...   Neg\n",
      "1987  desa wisata nglinggo salah desa wisata letak k...   Neg\n",
      "1988  lebaran minggu juli keluarga  obyek wisata kal...   Neg\n",
      "1989  gunung merapi meletus memjadi objek wisata  ut...   Neg\n",
      "1990   libur selektif tujuan wisata khawatir sehari ...   Neg\n",
      "1991   musim liburan kota macet jalan kotanya bus bu...   Neg\n",
      "1992  kereta eksekutif malioboro berangkat stasiun k...   Neg\n",
      "1993   berlabuh pelabuhan semarang desember ms volen...   Neg\n",
      "1994    perjalan atur kedatangan  pemandu wisata ban...   Neg\n",
      "1995   yogyakartaor salah kerja rumah tata candi bor...   Neg\n",
      "1996  habis hotel diuru supi mudah  nilai bahasa ing...   Neg\n",
      "1997    perjalan indonesia taiwan malaysia filipina ...   Neg\n",
      "1998  dibanding bali sibuk ramai tur  minggu liburan...   Neg\n",
      "1999    perjalan indonesia taiwan malaysia filipina ...   Neg\n",
      "\n",
      "[2000 rows x 2 columns]\n"
     ]
    }
   ],
   "source": [
    "import glob\n",
    "files = glob.glob('./bersih/*.csv')\n",
    "\n",
    "#for file in files:\n",
    "    \n",
    "data2 = pd.read_excel('./bersih/datajogja.xlsx')\n",
    "\n",
    "#data2 = data2.reindex(columns=['text','class'])\n",
    "print(data2)"
   ]
  },
  {
   "cell_type": "code",
   "execution_count": 13,
   "metadata": {},
   "outputs": [],
   "source": [
    "for index, row in data2.iterrows():\n",
    "    if row['label'] == 'Neg':\n",
    "        data2.loc[index]['label'] = 'neg'\n",
    "    else:\n",
    "        data2.loc[index]['label'] = 'pos'\n",
    "        \n",
    "data2.to_csv('clean2.csv', index=False)"
   ]
  },
  {
   "cell_type": "code",
   "execution_count": null,
   "metadata": {},
   "outputs": [],
   "source": []
  }
 ],
 "metadata": {
  "kernelspec": {
   "display_name": "Python 3",
   "language": "python",
   "name": "python3"
  },
  "language_info": {
   "codemirror_mode": {
    "name": "ipython",
    "version": 3
   },
   "file_extension": ".py",
   "mimetype": "text/x-python",
   "name": "python",
   "nbconvert_exporter": "python",
   "pygments_lexer": "ipython3",
   "version": "3.6.5"
  }
 },
 "nbformat": 4,
 "nbformat_minor": 2
}
